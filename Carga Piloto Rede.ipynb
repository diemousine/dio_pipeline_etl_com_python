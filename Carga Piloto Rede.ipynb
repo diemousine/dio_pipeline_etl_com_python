{
 "cells": [
  {
   "cell_type": "code",
   "execution_count": 1,
   "metadata": {},
   "outputs": [],
   "source": [
    "import pandas as pd\n",
    "import re"
   ]
  },
  {
   "cell_type": "code",
   "execution_count": 2,
   "metadata": {},
   "outputs": [],
   "source": [
    "def carga(file, sheets):\n",
    "    for sheet in range(sheets):\n",
    "        df = pd.read_excel(file, sheet_name=sheet)\n",
    "\n",
    "        # Renomeia colunas\n",
    "        df.rename(columns = {\n",
    "            'rua': 'endereco'\n",
    "            ,'estado': 'uf'\n",
    "            ,'responsável': 'responsavel'\n",
    "            ,'concat': 'soft_descriptor'\n",
    "        }, inplace = True)\n",
    "\n",
    "        # Remove colunas não usadas\n",
    "        cols = [\n",
    "            'complemento'\n",
    "            , 'telefone2'\n",
    "            , 'celular'\n",
    "            , 'cep_corresp'\n",
    "            , 'end_corresp'\n",
    "            , 'num_corresp'\n",
    "            , 'bairro_corresp'\n",
    "            , 'cidade_corresp'\n",
    "            , 'estado_corresp'\n",
    "            , 'comple_corresp'\n",
    "            , 'responsável1'\n",
    "            , 'cpf1'\n",
    "            , 'data_nascimento'\n",
    "            , 'banco1'\n",
    "        ]\n",
    "        df.drop(columns = cols, inplace = True)\n",
    "\n",
    "        # Zero fill cpf_cnpj\n",
    "        df.astype({'cpf_cnpj': 'str'})\n",
    "        df['cpf_cnpj'] = df['cpf_cnpj'].apply('{0:0>14}'.format)\n",
    "\n",
    "        # Remove caracteres da coluna numero\n",
    "        df.replace({'numero': r'\\D'}, {'numero': ''}, regex = True, inplace = True)\n",
    "        df.replace({'numero': ''}, 0, inplace = True)\n",
    "\n",
    "        # Remove caracteres da coluna mcc\n",
    "        df.replace({'mcc': r'\\D'}, {'mcc': ''}, regex = True, inplace = True)\n",
    "        df.replace({'mc': ''}, 0, inplace = True)\n",
    "\n",
    "        # Corrige e exibe linhas com problemas na UF\n",
    "        df['uf'] = df['uf'].str.upper()\n",
    "        df['uf'] = df['uf'].str.strip()\n",
    "\n",
    "        uf = ['AC','AL','AP','AM','BA','CE','DF','ES','GO','MA','MT','MS','MG','PA','PB','PR','PE','PI','RJ','RN','RS','RO','RR','SC','SP','SE','TO']\n",
    "\n",
    "        for i, r in df.iterrows():\n",
    "            if r['uf'] not in uf:\n",
    "                print(\"Localizado erro na linha\", i, \": UF =\", r['uf'])\n",
    "            if len(r['cep']) > 10:\n",
    "                print(\"Localizado erro na linha\", i, \": CEP > 10: \", r['cep'])\n",
    "        \n",
    "        df.to_csv(\"tombrede_\" + str(sheet+1) + \".csv\", sep=',', index = False)"
   ]
  },
  {
   "cell_type": "code",
   "execution_count": 3,
   "metadata": {},
   "outputs": [
    {
     "name": "stdout",
     "output_type": "stream",
     "text": [
      "Quantas abas existem na planilha?\n",
      "1\n"
     ]
    }
   ],
   "source": [
    "print('Quantas abas existem na planilha?')\n",
    "ttl_sheets = int(input())\n",
    "carga(\"tombrede.xlsx\", ttl_sheets)"
   ]
  }
 ],
 "metadata": {
  "kernelspec": {
   "display_name": "Python 3",
   "language": "python",
   "name": "python3"
  },
  "language_info": {
   "codemirror_mode": {
    "name": "ipython",
    "version": 3
   },
   "file_extension": ".py",
   "mimetype": "text/x-python",
   "name": "python",
   "nbconvert_exporter": "python",
   "pygments_lexer": "ipython3",
   "version": "3.7.4"
  }
 },
 "nbformat": 4,
 "nbformat_minor": 2
}
